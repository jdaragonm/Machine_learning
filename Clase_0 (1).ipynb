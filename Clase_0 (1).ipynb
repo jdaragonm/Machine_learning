{
 "cells": [
  {
   "cell_type": "markdown",
   "metadata": {},
   "source": [
    "<h1> <center> Introducción a Python </center> </h1>\n",
    "\n",
    "<p> En está sesión realizaremos una introducción al lenguaje de programación Python. Este lenguaje se caracteriza por ser multiparadigma, lo cual permite desarrollar distinto tipos de tareas, ser de alto nivel por el número de paquetes, es dinámico y sencillo de aprender. Se centra en los principios de legibilidad y transparencia en el codigo \"pythonico\" </p>\n",
    "\n",
    "<p> Este lenguaje soporta:</p>\n",
    "<ul>\n",
    "    <li> Programación orientada a objetos </li>\n",
    "    <li> Programación funcional </li>\n",
    "    <li> Programación imperativa </li>\n",
    "    <li> Programación declarativa </li>\n",
    "</ul>\n",
    "    \n",
    "\n",
    "\n",
    "## Entornos de trabajo\n",
    "\n",
    "Existen múltiples formas de trabajar con este lenguaje, (ya instalado), podemos programar en:\n",
    "* Editores de texto: Bloc de notas, Sublime text, Atom\n",
    "* Entornos de desarollo: PyCharm, Anaconda (Spyder - Jupyter), Visual Studio Code, Eclipse\n",
    "\n",
    "## Los paquetes y los modulos\n",
    "\n",
    "Al igual que R, este lenguaje se caracteriza principalmente porque se soporta en librerías, las cuales complementan sus funciones, las librerías que por lo general trabajaremos en el curso son:\n",
    "* numpy\n",
    "* math - pi\n",
    "* modulo\n",
    "* sklearn\n",
    "* pandas\n",
    "\n",
    "### Instalación de paquetes\n",
    "\n",
    "Para instalar paquetes en Python, podemos soportarnos en la Terminal o en Anaconda, en este caso nos soportaremos en Anaconda."
   ]
  },
  {
   "cell_type": "code",
   "execution_count": 1,
   "metadata": {},
   "outputs": [],
   "source": [
    "# Importemos los siguientes paquetes\n",
    "import sklearn as sk\n",
    "import numpy as np\n",
    "import sys\n",
    "\n",
    "# Importemos los siguientes modulos\n",
    "from math import exp, expm1, fsum, pi"
   ]
  },
  {
   "cell_type": "markdown",
   "metadata": {},
   "source": [
    "## Fundamentos de Python\n",
    "Python es un lenguaje de programación general de alto nivel interpretativo que se lanzó por primera vez en 1991. Este lenguaje permite a los usuarios manipular fácilmente datos y almacenar valores en lo que se conoce como <b>objectos</b>. Todo en Python es un objeto y es de un <b>tipo</b> en particular. Por ejemplo, si un usuario tiene como objetivo almacenar el número entero 5 en un objeto llamado  ```my_int```, esto se puede lograr mediante la declaración,  ```my_int = 5```. Esta declaración le dice a Python que asigne el valor entero de 5 a la **variable** ```my_int``` (llamada una variable aquí porque puede cambiar el valor). ```my_int``` es un objeto de Python y tiene el tipo```int```.\n",
    "\n",
    "Similar a cómo Excel distingue diferentes tipos de datos (como Texto, Número, Moneda, Científico), Python ofrece una variedad de tipos de datos. Aquí hay algunos tipos de datos comunes:\n",
    "\n",
    "1. Enteros, tipo ```int```: ```my_int = 1```\n",
    "2. Flotantes tipo ```float```: ```my_float = 25.5```\n",
    "3. Cadenas de caracteres (Strings), tipo ```str```: ```my_string = 'Hello'```\n",
    "\n",
    "Aquí vemos (1) <b>enteros</b> y (2) <b>flotantes</b> almacenan datos numéricos.   La diferencia entre los dos es que los flotantes almacenan variables decimales, mientras que el tipo entero solo puede almacenar variables enteras. (3) es el tipo <b>string</b>. Las cadenas se utilizan para almacenar datos textuales en Python. Este caso usará variables de cadena para almacenar nombres de países. A menudo se usan para almacenar identificadores como nombres de personas, nombres de ciudades y más.\n",
    "\n",
    "Hay otros tipos de datos disponibles en Python; sin embargo, estos son los tres tipos fundamentales que verá en casi todos los programas de Python. Siempre tenga en cuenta que **cada** objeto en Python tiene un tipo.\n",
    "\n",
    "Ahora que hemos cubierto los fundamentos de Python, echemos un vistazo a los datos de la compañía de propiedad de GrowthAir sobre las estimaciones de éxito del país."
   ]
  },
  {
   "cell_type": "markdown",
   "metadata": {},
   "source": [
    "## Tipos de elementos en Python\n",
    "### String o cadena de caracteres\n",
    "\"Hello world!\"\n",
    "### Números\n",
    "* Enteros (Interger): En este caso no tenemos números con decimales. \n",
    "\n",
    "<center> 1 </center>\n",
    "\n",
    "* Flotantes (Float): En este caso tenemos números con decimales. Es utilizado para operaciones exactas\n",
    "\n",
    "<center> 1.0 </center>\n",
    "\n",
    "* Boolean (Dato lógico): Es útil para definir tipos de estado\n",
    "\n",
    "<center> <b>True</b> and <b>False</b> </center>"
   ]
  },
  {
   "cell_type": "markdown",
   "metadata": {},
   "source": [
    "### Ejercicio 1\n",
    "\n",
    "1. En la celda siguiente, tipeen los siguientes elementos defina de que tipo son:\n",
    "    * \"Hello world!!\"\n",
    "    * 1908\n",
    "    * 1087.188893\n",
    "    * \"Hello world\" + 1 + \"My name is:\"\n",
    "    \n",
    "2. Transforme números enteros a float, y luego de manera inversa con int() y float()\n",
    "3. ¿Qué sucede si cambiamos el dato 3 y 0 a booleano? (Pista: Utilice bool())\n",
    "4. Mencione 2 casos en los que se puedan transformar strings a números.\n",
    "\n",
    "5. Muestre 2 casos en que se transforme de números a string. (Pista: Utilice str())"
   ]
  },
  {
   "cell_type": "code",
   "execution_count": 19,
   "metadata": {},
   "outputs": [
    {
     "name": "stdout",
     "output_type": "stream",
     "text": [
      "Hello world!!\n",
      "1908\n",
      "1087.188893\n",
      "Hello world My name is:\n",
      "1908.0\n",
      "1087\n",
      "True\n",
      "False\n",
      "5\n",
      "15.0\n",
      "5\n",
      "15.4\n"
     ]
    }
   ],
   "source": [
    "## En esta sección escriba la solución del ejercicio\n",
    "\n",
    "#1\n",
    "print('Hello world!!')\n",
    "print(1908)\n",
    "print(1087.188893)\n",
    "print('Hello world ' + 'My name is:')\n",
    "\n",
    "#2\n",
    "print(float(1908))\n",
    "print(int(1087.188893))\n",
    "\n",
    "#3\n",
    "print(bool(3))\n",
    "print(bool(0))\n",
    "\n",
    "#4\n",
    "print(int('5'))\n",
    "print(float('15'))\n",
    "\n",
    "#5\n",
    "print(str(5))\n",
    "print(str(15.4))"
   ]
  },
  {
   "cell_type": "markdown",
   "metadata": {},
   "source": [
    "### Listas\n",
    "Es un objeto que se caracteriza porque contiene distintos tipos de elementos en un mismo objeto\n",
    "\n",
    "Ejemplos de listas:\n",
    "\n",
    "lista1 = ['Concepto',1,100.99,True]\n",
    "\n",
    "lista2 = ['Brian','Andres','Laura','Daniela']\n",
    "\n",
    "lista3 = list((3,4,5,6,3))\n",
    "\n",
    "lista4 = list(range(1,10))\n",
    "\n",
    "¿Pueden generar listas vacías?\n",
    "\n",
    "### Tuplas\n",
    "Es un elemento similar a las listas, pero este es \"inmutable\", es decir que no podemos cambiar elementos de ellas. Más adelante, cuando interactuemos con los objetos y sus elementos, veremos en que consisten\n",
    "\n",
    "Ejemplos de tuplas\n",
    "\n",
    "tupla1 = (2,3,4,5)\n",
    "\n",
    "tupla2 = (1,\"Septiembre\",\"2018\")\n",
    "\n",
    "tupla3 = (12,)\n",
    "\n",
    "### Diccionarios\n",
    "\n",
    "Es una estructura que permite agrupar datos de una misma entidad, con una palabra clave y uno valor. Al igual que las listas, tambien se pueden componer de distintos elementos\n",
    "\n",
    "Ejemplo\n",
    "\n",
    "{\n",
    "    \"Name\":\"Brian\",\n",
    "    \"Last Name\":'Salamanca',\n",
    "    \"email\":\"bssalamancad@unal.edu.co\",\n",
    "    \"edad\": 0\n",
    "}\n",
    "\n",
    "*Mas adelante veremos como manipular los diccionarios*\n",
    "\n",
    "### Ejercicio 2\n",
    "\n",
    "1. Realice tres ejemplos distintos de listas y 3 de tuplas\n",
    "2. Realice un diccionario con sus siguientes datos: nombre, apellido, edad, correo, estatura, apodo, lista de los platos preferidos (solo 5)"
   ]
  },
  {
   "cell_type": "code",
   "execution_count": 29,
   "metadata": {},
   "outputs": [
    {
     "name": "stdout",
     "output_type": "stream",
     "text": [
      "((), (1, 2, 5), ('Camilo', 'Fuentes'))\n",
      "([], [[1, 2, 3, 4]], ['Camilo', 'Fuentes'])\n",
      "{'Edad': 0, 'Apellido': 'Arag\\xc3\\xb3n', 'Estatura': 170, 'Correo': 'jdaragonm@unal.edu.co', 'Platos_Preferidos': ['Arroz', 'Pasta', 'Pollo', 'Sushi', 'Carne'], 'Apodo': 'NA', 'Nombre': 'Juan David'}\n"
     ]
    }
   ],
   "source": [
    "## En esta sección escriba la solución del ejercicio\n",
    "tupla1 = ()\n",
    "tupla2 = (1,2,5)\n",
    "tupla3 = ('Camilo','Fuentes')\n",
    "print(tupla1, tupla2, tupla3)\n",
    "\n",
    "lista1 = []\n",
    "lista2 = [range(1,5)]\n",
    "lista3 = list(tupla3)\n",
    "print(lista1, lista2, lista3)\n",
    "\n",
    "diccionario = {'Nombre':'Juan David', 'Apellido':'Aragón Morales', 'Edad':0, 'Correo':'jdaragonm@unal.edu.co', \n",
    "               'Estatura':170.0, 'Apodo':'NA', 'Platos_Preferidos':['Arroz', 'Pasta', 'Pollo', 'Sushi', 'Carne']}\n",
    "print(diccionario)"
   ]
  },
  {
   "cell_type": "markdown",
   "metadata": {},
   "source": [
    "## Operaciones aritméticas +, -, \\*, /, y **\n",
    "\n",
    "Si bien es cierto, en python podemos requerir del paquete _math_ para realizar operaciones aritméticas complejas, el lenguaje tambien cuenta con distintas formas de cálculo básico, por ejemplo\n",
    "* Sumar dos números: \n",
    "\n",
    "<center>$1 + 1$</center>\n",
    "\n",
    "* Restar dos números:\n",
    "\n",
    "<center>$2 - 1$</center>\n",
    "\n",
    "* Sumar dos números:\n",
    "\n",
    "<center>$4 * 3$</center>\n",
    "\n",
    "* Sumar dos números:\n",
    "\n",
    "<center>$8 / 2$</center>\n",
    "\n",
    "* Sumar dos números:\n",
    "\n",
    "<center>$2^{8}$</center>\n",
    "\n",
    "También es posible:\n",
    "* Residuos de una división (%). Esto solo funciona con enteros\n",
    "\n",
    "<center>3 % 2 </center>\n",
    "\n",
    "<center>3 // 2</center>\n",
    "\n",
    "\n",
    "### Ejercicio 3\n",
    "\n",
    "1. Ejecute las operaciones mencionadas en esta celda\n",
    "2. Realice un calculo aritmético implementando 4 de las operaciones mencionadas anteriormente, en conjunto con la tabla de presidencia"
   ]
  },
  {
   "cell_type": "code",
   "execution_count": null,
   "metadata": {},
   "outputs": [],
   "source": [
    "## En esta sección escriba la solución del ejercicio"
   ]
  },
  {
   "cell_type": "markdown",
   "metadata": {},
   "source": [
    "## Variables \n",
    "\n",
    "En esta sección comencemos a trabajar con matrices y variables. Para ello, nos soportaremos en el paquete **numpy**\n",
    "\n",
    "Las variables son objetos que contienen distintos tipos de datos, tales como números, strings, listas, tuplas, diccionarios. Existen reglas básicas en las convenciones de definir los nombres de las variable, por ejemplo:\n",
    "* _Case sensitive_: En Python las mayúsculas y minúsculas se entienden como 2 elementos distintos\n",
    "* Los nombres no pueden comenzar por números o caracteres no alfabéticos, estos últimos son utilizados para aplicar ciertas operaciones\n",
    "\n",
    "Tipos de convenciones para escribir variables:\n",
    "* Pascal case: _PrimeraVariable_\n",
    "* Camel case: _primeraVariable_\n",
    "* Snake case: *primera\\_variable*\n",
    "* Variables constantes: _VARIABLE_\n",
    "\n",
    "Python es de tipado dinámico, ejemplo:<br/>\n",
    "$a = 1$ <br/>\n",
    "$a = 34$ <br/>\n",
    "$a = \"Ejemplo\"$ <br/>\n",
    "$a = (1,2,3)$ <br/>\n",
    "\n",
    "### ¿Qué podemos hacer con las variables ?\n",
    "A cada variable se le pueden aplicar distintas funciones. Para saber que funciones podemos realizar, utilizamos el comando _dir()_, exploremos este caso\n",
    "\n",
    "texto = \"Hello world!\"\n",
    "print(dir(texto))\n",
    "\n",
    "En este caso obtenemos una lista de distintos comandas que se le puede aplicar a esta cadena de caracteres. ¿Se obtendrá el mismo resultado para cualquier tipo de elementos?\n",
    "\n",
    "\n",
    "_**Método de encadenados**: También es posible aplicar varias funciones al mismo tiempo, un ejemplo de ello es:\n",
    " <br> print(texto.replace(\"Hello\", \"Bye\").upper())_\n",
    "\n",
    "### Ejercicio 4\n",
    "\n",
    "1. Defina al menos 7 variables distintas, utilizando las convenciones mencionadas"
   ]
  },
  {
   "cell_type": "code",
   "execution_count": null,
   "metadata": {
    "scrolled": true
   },
   "outputs": [],
   "source": [
    "## En esta sección escriba la solución del ejercicio"
   ]
  },
  {
   "cell_type": "markdown",
   "metadata": {},
   "source": [
    "### Arreglos en Python\n",
    "En este caso debemos tener cargado el paquete numpy\n",
    "* <b>Vectores:</b> <br> Se considera un vector aquel conjunto de elementos que son todos números, cuya dimensión es $1xn$ o $nx1$.\n",
    "* <b>Matrices:</b> <br> Una matriz es una colección de elementos algebraicos a los que se pueden aplicar distintas operaciones númericas, cuya dimensión es $mxn$.\n",
    "\n",
    "<b>Ejemplos:</b>\n",
    "* vector1 = np.array([2,3,4])\n",
    "* matriz1 = np.array([[1,2,3],[3,4,5]])\n",
    "\n",
    "Existen multiples funciones que se pueden aplicar a estos elementos. En este caso, indaguemos"
   ]
  },
  {
   "cell_type": "code",
   "execution_count": null,
   "metadata": {},
   "outputs": [],
   "source": [
    "vector1 = np.array([2,3,4])\n",
    "matriz1 = np.array([[1,2,3],[3,4,5]])\n",
    "print(dir(vector1))\n",
    "print(matriz1.transpose())"
   ]
  },
  {
   "cell_type": "markdown",
   "metadata": {},
   "source": [
    "Podemos con estos arreglos:\n",
    "* sum: Suma entera de todos los elementos\n",
    "* size: Cantidad de elementos dentro del arreglo\n",
    "* transpose: Transponer el arreglo"
   ]
  },
  {
   "cell_type": "markdown",
   "metadata": {},
   "source": [
    "## Indexación\n",
    "En varias ocasiones, es necesario manipular los elementos de las listas, los vectores, las matrices y demás objetos, para rebanar, adicionar y cambiar. En el caso de Python, un objeto que posee 10 elementos, su indexación va de 0 a 9, es decir la posición del primer elemento es <b>0</b>, y esto porque este lenguaje utiliza la indexación en base-0. \n",
    "\n",
    "Podemos tomar una lista y hacer distintos tipos de indexación:"
   ]
  },
  {
   "cell_type": "code",
   "execution_count": 2,
   "metadata": {
    "scrolled": true
   },
   "outputs": [
    {
     "name": "stdout",
     "output_type": "stream",
     "text": [
      "[1, 2, 3, 4, 5, 6, 7, 8, 9, 10, 11, 12, 13, 14, 15, 16, 17, 18, 19, 20]\n"
     ]
    }
   ],
   "source": [
    "listaN = list(range(1,21))\n",
    "print(listaN)"
   ]
  },
  {
   "cell_type": "markdown",
   "metadata": {},
   "source": [
    "* ¿Cuál es el 5 elemento de la lista?"
   ]
  },
  {
   "cell_type": "code",
   "execution_count": null,
   "metadata": {
    "scrolled": true
   },
   "outputs": [],
   "source": [
    "listaN[6]"
   ]
  },
  {
   "cell_type": "markdown",
   "metadata": {},
   "source": [
    "* Tomemos los primeros 10 elementos"
   ]
  },
  {
   "cell_type": "code",
   "execution_count": null,
   "metadata": {},
   "outputs": [],
   "source": [
    "listaN[0:10]"
   ]
  },
  {
   "cell_type": "markdown",
   "metadata": {},
   "source": [
    "* Tomemos el último elemento"
   ]
  },
  {
   "cell_type": "code",
   "execution_count": null,
   "metadata": {},
   "outputs": [],
   "source": [
    "print(listaN[-1])\n",
    "print(listaN[19])"
   ]
  },
  {
   "cell_type": "markdown",
   "metadata": {},
   "source": [
    "* Tomemos los 4 elementos hacia átras"
   ]
  },
  {
   "cell_type": "code",
   "execution_count": 3,
   "metadata": {},
   "outputs": [
    {
     "data": {
      "text/plain": [
       "[1, 2, 3, 4]"
      ]
     },
     "execution_count": 3,
     "metadata": {},
     "output_type": "execute_result"
    }
   ],
   "source": [
    "listaN[:4]"
   ]
  },
  {
   "cell_type": "markdown",
   "metadata": {},
   "source": [
    "* Tomemos los números impares de la lista / Tomemos cada segundo elemento de la lista"
   ]
  },
  {
   "cell_type": "code",
   "execution_count": null,
   "metadata": {},
   "outputs": [],
   "source": [
    "listaN[::2]"
   ]
  },
  {
   "cell_type": "markdown",
   "metadata": {},
   "source": [
    "* Cambiemos un elemento"
   ]
  },
  {
   "cell_type": "code",
   "execution_count": null,
   "metadata": {},
   "outputs": [],
   "source": [
    "listaN[2] = 500\n",
    "print(listaN)"
   ]
  },
  {
   "cell_type": "markdown",
   "metadata": {},
   "source": [
    "* Reordenemos de la posición mayor a la posición menor"
   ]
  },
  {
   "cell_type": "code",
   "execution_count": null,
   "metadata": {},
   "outputs": [],
   "source": [
    "listaN[::-1]"
   ]
  },
  {
   "cell_type": "markdown",
   "metadata": {},
   "source": [
    "Hay otras opciones que podemos realizar con las listas, por ejemplo:\n",
    "* Adicionar un elemento al final de la lista"
   ]
  },
  {
   "cell_type": "code",
   "execution_count": null,
   "metadata": {},
   "outputs": [],
   "source": [
    "listaN.append(21)\n",
    "listaN"
   ]
  },
  {
   "cell_type": "markdown",
   "metadata": {},
   "source": [
    "* Adicionar múltiples elementos al final de la lista"
   ]
  },
  {
   "cell_type": "code",
   "execution_count": null,
   "metadata": {
    "scrolled": true
   },
   "outputs": [],
   "source": [
    "listaN.extend([22,23])\n",
    "listaN"
   ]
  },
  {
   "cell_type": "code",
   "execution_count": null,
   "metadata": {},
   "outputs": [],
   "source": [
    "del listaN[4]\n",
    "listaN"
   ]
  },
  {
   "cell_type": "markdown",
   "metadata": {},
   "source": [
    "Estos fueron algunos de los ejemplos para manipular listas en python.\n",
    "\n",
    "### Ejercicio 5\n",
    "1. De _listaN_ obtenga:\n",
    "    1. Los primeros 10 elementos de 2 en 2\n",
    "    2. Excluya el último elemento\n",
    "2. Con la variable _stringN = \"abcdefghijklmno\"_ realice los mismos procedimientos\n",
    "3. Genere una lista con distinto tipos de elementos \n",
    "4. Utilice _dir()_ para entender que operaciones/métodos puede trabajar con una tupla. Realice 2 de ellas.\n",
    "5. Utilice _del_ para eliminar un elemento"
   ]
  },
  {
   "cell_type": "code",
   "execution_count": 2,
   "metadata": {},
   "outputs": [],
   "source": [
    "## En esta sección escriba la solución del ejercicio"
   ]
  },
  {
   "cell_type": "markdown",
   "metadata": {},
   "source": [
    "### Ejemplos con matrices y vectores\n",
    "En Python podemos realizar múltiples ejercicios con matrices, por ejemplo, calculos de algebra lineal. Los siguientes items son algunos ejemplos con matrices y vectorees de Python\n",
    "\n",
    "Ejemplos:"
   ]
  },
  {
   "cell_type": "code",
   "execution_count": null,
   "metadata": {},
   "outputs": [],
   "source": [
    "matriz2 = np.array([[34,5,677],[4,6,3],[33,3,55]])\n",
    "vector2 = np.array([2,7,8,5,0,2])\n",
    "vector3 = np.array([4,76,87,45,44,33])"
   ]
  },
  {
   "cell_type": "markdown",
   "metadata": {},
   "source": [
    "* Operaciones con de vectores\n"
   ]
  },
  {
   "cell_type": "code",
   "execution_count": null,
   "metadata": {},
   "outputs": [],
   "source": [
    "# Suma\n",
    "print(vector2 + vector3)\n",
    "\n",
    "# Resta\n",
    "print(vector2 - vector3)\n",
    "\n",
    "# Producto escalar\n",
    "print(vector2 @ vector3)\n",
    "\n",
    "\n",
    "# Calcular la norma de un vector\n",
    "print(np.sqrt(vector2 @ vector2))\n",
    "\n",
    "# Vectores ortogonales\n",
    "v1 = np.array([3, 4])\n",
    "v2 = np.array([4, -3])\n",
    "\n",
    "print(v1 @ v2)"
   ]
  },
  {
   "cell_type": "markdown",
   "metadata": {},
   "source": [
    "* Operaciones con matrices"
   ]
  },
  {
   "cell_type": "code",
   "execution_count": null,
   "metadata": {},
   "outputs": [],
   "source": [
    "# Creando una matriz identidad de 2x2\n",
    "I = np.eye(3)\n",
    "print(I)\n",
    "print(\" \")\n",
    "# Multiplicar una matriz por la identidad nos da la misma matriz\n",
    "B = matriz2 @ I\n",
    "print(B)\n",
    "print(\" \")\n",
    "\n",
    "# Calculando el determinante de la matriz A\n",
    "print(np.linalg.det(matriz2))\n",
    "\n",
    "\n",
    "# Calculando la inversa de A.\n",
    "matriz2_inv = np.linalg.inv(matriz2)\n",
    "print(\" \")\n",
    "# A x A_inv nos da como resultado I.\n",
    "print(matriz2 @ matriz2_inv)\n",
    "\n",
    "# Trasponiendo una matriz\n",
    "matriz4 = np.arange(6).reshape(3, 2)\n",
    "print(\" \")\n",
    "print(np.transpose(matriz2))"
   ]
  },
  {
   "cell_type": "markdown",
   "metadata": {},
   "source": [
    "### Ejercicio 6\n",
    "\n",
    "1. Defina 2 vectores y una matriz diferente al ejercicio y ejecute nuevamente el codigo. El determinante de la matriz planteada debe ser cero"
   ]
  },
  {
   "cell_type": "code",
   "execution_count": null,
   "metadata": {},
   "outputs": [],
   "source": [
    "## En esta sección escriba la solución del ejercicio"
   ]
  },
  {
   "cell_type": "markdown",
   "metadata": {},
   "source": [
    "# Funciones\n",
    "Las funciones en Python son objetos que siguen una serie de sentencias para obtener un valor/resultado deseado. En la mayoría de los casos requieren unos elementos de entrada y que este objeto sea invocado\n",
    "\n",
    "Se puede utilizar en:\n",
    "* Reutilización: Es utilizada en diferentes ejercicios\n",
    "* Modulación: Es utilizada para fragmentar un código extenso y complejo\n",
    "\n",
    "En las siguientes celdas desarrollaremos unos ejemplos de funciones:\n",
    "\n",
    "* Función para obtener un resultdo"
   ]
  },
  {
   "cell_type": "code",
   "execution_count": null,
   "metadata": {},
   "outputs": [],
   "source": [
    "def hola(nombre):\n",
    "    '''Este es un saludo'''\n",
    "    print('Hola',nombre,'. Cómo estás hoy?') \n",
    "hola(\"Ernesto\")"
   ]
  },
  {
   "cell_type": "markdown",
   "metadata": {},
   "source": [
    "* Función para generar una matriz de tamaño fxc con un único elemento n"
   ]
  },
  {
   "cell_type": "code",
   "execution_count": null,
   "metadata": {},
   "outputs": [],
   "source": [
    "def newMatrix(f,c,n):\n",
    "    matriz = []\n",
    "    for i in range(f):\n",
    "        a = [n]*c\n",
    "        matriz.append(a)\n",
    "    return matriz\n",
    "newMatrix(3, 5, 1)"
   ]
  },
  {
   "cell_type": "markdown",
   "metadata": {},
   "source": [
    "### Ejercicio 7\n",
    "1. Genere una función para calcular:\n",
    "    * $f(x) = 3^{n}$\n",
    "    * $f(x,y) = 3^{n} * y!$"
   ]
  },
  {
   "cell_type": "code",
   "execution_count": 3,
   "metadata": {},
   "outputs": [],
   "source": [
    "## En esta sección escriba la solución del ejercicio"
   ]
  },
  {
   "cell_type": "markdown",
   "metadata": {},
   "source": [
    "## Sentencias condicionales\n",
    "\n",
    "Existen diversos tipos de condicionales que permiten evaluar y comparar unos resultados para depurar un código\n",
    "\n",
    "Entre ellas tenemos:\n",
    "* if\n",
    "* elif\n",
    "* else\n",
    "\n",
    "Ejemplos de este tipo de sentencias son los siguientes:"
   ]
  },
  {
   "cell_type": "code",
   "execution_count": 4,
   "metadata": {},
   "outputs": [],
   "source": [
    "x = 40\n",
    "if x < 30:\n",
    "    print(\"El valor de x es menor a 30\")"
   ]
  },
  {
   "cell_type": "code",
   "execution_count": 5,
   "metadata": {
    "scrolled": true
   },
   "outputs": [
    {
     "name": "stdout",
     "output_type": "stream",
     "text": [
      "El valor de x es mayor o igual a 30\n"
     ]
    }
   ],
   "source": [
    "if x < 30:\n",
    "    print(\"El valor de x es menor a 30\")\n",
    "else:\n",
    "    print(\"El valor de x es mayor o igual a 30\")"
   ]
  },
  {
   "cell_type": "code",
   "execution_count": 6,
   "metadata": {},
   "outputs": [
    {
     "name": "stdout",
     "output_type": "stream",
     "text": [
      "Por favor, intente de nuevo!\n"
     ]
    }
   ],
   "source": [
    "if x > 10 and x < 20:\n",
    "    print(\"X se encuentra entre 10 y 20\")\n",
    "else:\n",
    "    print(\"Por favor, intente de nuevo!\")"
   ]
  },
  {
   "cell_type": "code",
   "execution_count": 7,
   "metadata": {},
   "outputs": [
    {
     "name": "stdout",
     "output_type": "stream",
     "text": [
      "X se encuentra entre 10 y 40\n"
     ]
    }
   ],
   "source": [
    "if x > 10 or x < 40:\n",
    "    print(\"X se encuentra entre 10 y 40\")\n",
    "else:\n",
    "    print(\"Por favor, intente de nuevo!\")"
   ]
  },
  {
   "cell_type": "markdown",
   "metadata": {},
   "source": [
    "## Iteración\n",
    "\n",
    "Es habitual efectuar actualizaciones a los valores de las variables, para ello existen diversos tipos de sentencias de asignación que utilizan las dimensiones de un objetos y/o sentencias condicionales aplicados a los mismos para obtener un resultado.\n",
    "\n",
    "### Bucles _for_ y _while_\n",
    "\n",
    "Los bucles _for_ y _while_ son sentencias utilizadas para recorrer los elementos que posee un objeto y se contruyen de la siguiente manera:\n",
    "* Se inicia con un objeto, a veces vacío, antes de ejecutar la sentencia\n",
    "* Se efectuan algún tipo de funciones, combinaciones, evaluaciones dentro del cuerpo del bucle\n",
    "* Se debe revisar las variables resultantes cuando el bucle se completa"
   ]
  },
  {
   "cell_type": "code",
   "execution_count": null,
   "metadata": {},
   "outputs": [],
   "source": [
    "print(\"Listos para el despegue!!\")\n",
    "\n",
    "n = 10\n",
    "while n > 0:\n",
    "    print(n)\n",
    "    n = n-1\n",
    "print('¡Despegue!')"
   ]
  },
  {
   "cell_type": "markdown",
   "metadata": {},
   "source": [
    "* Bucle infinito"
   ]
  },
  {
   "cell_type": "code",
   "execution_count": null,
   "metadata": {},
   "outputs": [],
   "source": [
    "n = 10\n",
    "while True:\n",
    "    print(n)\n",
    "    n=n-1\n",
    "print('¡Terminado!')\n"
   ]
  },
  {
   "cell_type": "code",
   "execution_count": null,
   "metadata": {},
   "outputs": [],
   "source": [
    "while True:\n",
    "    linea = input('> ')\n",
    "    if linea[0] == '#' :\n",
    "        continue\n",
    "    if linea == 'fin':\n",
    "        break\n",
    "        print(linea)\n",
    "print('¡Terminado!')\n"
   ]
  },
  {
   "cell_type": "code",
   "execution_count": null,
   "metadata": {},
   "outputs": [],
   "source": [
    "contador = 0\n",
    "for valor in listaN:\n",
    "    contador = contador + 1\n",
    "print('Num. elementos: ', contador)"
   ]
  },
  {
   "cell_type": "code",
   "execution_count": null,
   "metadata": {},
   "outputs": [],
   "source": [
    "mayor = None\n",
    "print('Antes:', mayor)\n",
    "\n",
    "for valor in [3, 41, 12, 9, 74, 15]:\n",
    "    if mayor is None or valor > mayor : \n",
    "        mayor = valor\n",
    "        print('Bucle:',valor,mayor)\n",
    "print('Mayor:', mayor)"
   ]
  },
  {
   "cell_type": "markdown",
   "metadata": {},
   "source": [
    "<h3>Ejercicios 8</h3>\n",
    "\n",
    "<ol type=\"1\">\n",
    "    <li> Desarrolle una sentencia en la que compare si una variable es positiva o negativa</li>\n",
    "    <li> Con la condicional <b> try - except </b> en la que obtenga el número máximo de la lista: <i> listaC = [1,4,-3,5,7,9,-2,3,-5] </i></li>\n",
    "    <li> De la lista <i> listaB = [21,34,-34,45,67,True,\"Ejemplo\",\"Pedro\"] </i> calcule el número más grande para los elementos número, imprima los elementos string y salte los elementos booleanos \n",
    "    \n",
    "<ol>"
   ]
  },
  {
   "cell_type": "code",
   "execution_count": null,
   "metadata": {},
   "outputs": [],
   "source": [
    "## En esta sección escriba la solución del ejercicio"
   ]
  },
  {
   "cell_type": "markdown",
   "metadata": {},
   "source": [
    "<h2> Buenas prácticas en Python </h2>\n",
    "\n",
    "<p> Para programadores, desarrolladores y científicos de datos es importante que a la hora de <i>tipear</i> sean capaces de escribir un código adecuadamente, es por ello que existen un conjunto de reglas en Python a la hora de elaborar Scripts o Modulos. </p>\n",
    "\n",
    "<ol type =\"1\">\n",
    "  <li>Estructura del código</li>\n",
    "  <li>Estilos de codificación</li>\n",
    "  <li>Seguridad</li>\n",
    "  <li>Testing</li>\n",
    "  <li>Manejor de errores</li>\n",
    "  <li>Optimización</li>\n",
    "</ul>\n",
    "\n"
   ]
  },
  {
   "cell_type": "markdown",
   "metadata": {},
   "source": [
    "1. **Estructura del codigo**\n",
    "    * Descripción del script\n",
    "    * Importación de modulos y paquetes\n",
    "    * Constantes y variables globales\n",
    "    * Definición de clases y funciones\n",
    "    * Cuerpo principal"
   ]
  },
  {
   "cell_type": "code",
   "execution_count": null,
   "metadata": {},
   "outputs": [],
   "source": [
    "'''Script de conteo'''\n",
    "import numpy as np\n",
    "\n",
    "e = 2.34\n",
    "var = 1\n",
    "\n",
    "def imprimir(a):\n",
    "    print(\"El elemento a imprimir es:\",a)\n",
    "\n",
    "if var > 0:\n",
    "    print(\"Es mayor a 0\")"
   ]
  },
  {
   "cell_type": "markdown",
   "metadata": {},
   "source": [
    "**2. Estilos de codificación**\n",
    "<ul>\n",
    "    <li>Escribir y actualizar comentarios en secciones importantes (el por qué)</li>\n",
    "    <li>Asumir un estilo de codificación y mantenerlo</li>\n",
    "    <li>Uso de la identación</li>\n",
    "    <li>Emplear nombres claros en las variables, evitando el conflicto con funciones, objetos, etc.</li>\n",
    "    <li>Mantener un código simple KISS (Keep It Simple Stupid)</li>\n",
    "    <li>No emplees sentencias comparativas/condicionales para comparar objetos <i>None</i></li>\n",
    "</ul>\n",
    "    "
   ]
  },
  {
   "cell_type": "markdown",
   "metadata": {},
   "source": [
    "**3. Seguridad**\n",
    "<ul>\n",
    "    <li>Evitar publicar información sensible de los usuarios</li>\n",
    "    <li>Manipular códigos de terceros que sea seguro</li>\n",
    "    <li>Concentrar esfuerzo en las secciones que manipulen información del exterior</li>\n",
    "    <li>Evitar que el script requiera privilegios de administrador</li>\n",
    "</ul>"
   ]
  },
  {
   "cell_type": "markdown",
   "metadata": {},
   "source": [
    "**4. Testing**\n",
    "<ul>\n",
    "    <li>Ejecutar código con valores atípicos y de frontera</li>\n",
    "    <li>Utilizar <i>nose</i> y <i>pytest</i></li>\n",
    "    <li>Verificar cada sentencia del código</li>\n",
    "    <li>Realizar pruebas independientes</li>\n",
    "</ul>"
   ]
  },
  {
   "cell_type": "markdown",
   "metadata": {},
   "source": [
    "**5. Manejo de errores**\n",
    "<ul>\n",
    "    <li> No manejar la sentencia <i>Exception</i> en <b>try - except</b></li>\n",
    "    <li> Crear excepciones en casos específicos</li>\n",
    "</ul>"
   ]
  },
  {
   "cell_type": "markdown",
   "metadata": {},
   "source": [
    "**6. Optimización**\n",
    "<ul>\n",
    "    <li> Busca de mejoras, posibles errores y oportunidades de optimización</li>\n",
    "    <li> Siempre verificar el funcionamiento del algoritmo antes de optimizarlo</li>\n",
    "    <li> Minimizar el uso de funciones</li>\n",
    "    <li> No reinventar la rueda</li>\n",
    "</ul>"
   ]
  }
 ],
 "metadata": {
  "kernelspec": {
   "display_name": "Python 2",
   "language": "python",
   "name": "python2"
  },
  "language_info": {
   "codemirror_mode": {
    "name": "ipython",
    "version": 2
   },
   "file_extension": ".py",
   "mimetype": "text/x-python",
   "name": "python",
   "nbconvert_exporter": "python",
   "pygments_lexer": "ipython2",
   "version": "2.7.15"
  }
 },
 "nbformat": 4,
 "nbformat_minor": 2
}
